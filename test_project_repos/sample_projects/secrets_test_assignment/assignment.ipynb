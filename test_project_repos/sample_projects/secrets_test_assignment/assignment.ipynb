{
 "cells": [
  {
   "cell_type": "markdown",
   "id": "417187ad",
   "metadata": {},
   "source": [
    "# Calculator Assignment\n",
    "\n",
    "## Overview\n",
    "Implement basic calculator functions with proper error handling and testing.\n",
    "\n",
    "## Requirements\n",
    "1. Implement add, subtract, multiply, and divide functions\n",
    "2. Handle division by zero appropriately\n",
    "3. Include proper documentation\n",
    "4. Write comprehensive tests"
   ]
  },
  {
   "cell_type": "code",
   "execution_count": null,
   "id": "206f1d2c",
   "metadata": {},
   "outputs": [],
   "source": [
    "# Import your calculator module\n",
    "from calculator import add, subtract, multiply, divide\n",
    "\n",
    "# Test your functions here\n",
    "print(\"Testing calculator functions...\")\n",
    "print(f\"add(2, 3) = {add(2, 3)}\")\n",
    "print(f\"subtract(10, 5) = {subtract(10, 5)}\")\n",
    "print(f\"multiply(4, 6) = {multiply(4, 6)}\")\n",
    "print(f\"divide(20, 4) = {divide(20, 4)}\")"
   ]
  },
  {
   "cell_type": "markdown",
   "id": "d597edf5",
   "metadata": {},
   "source": [
    "## Questions\n",
    "1. What happens when you divide by zero?\n",
    "2. How would you extend this calculator to support more operations?\n",
    "3. What edge cases should be considered?"
   ]
  }
 ],
 "metadata": {
  "language_info": {
   "name": "python"
  }
 },
 "nbformat": 4,
 "nbformat_minor": 5
}
